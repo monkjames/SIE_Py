{
 "cells": [
  {
   "cell_type": "code",
   "execution_count": 2,
   "metadata": {},
   "outputs": [],
   "source": [
    "import pandas as pd\n",
    "# importing search loads the pickles which takes about 30-40 seconds\n",
    "import search"
   ]
  },
  {
   "cell_type": "markdown",
   "metadata": {},
   "source": [
    "### Perform a basic search\n",
    "this uses the search.results(search_value, search_field, case_sensitive) method\n",
    "- search_value = your keywords\n",
    "- search_field (optional) = ID or Value (Value is default)\n",
    "- case_sensitive (optional) = defaults to True\n",
    "- file (optional) = the file to search in\n",
    "\n",
    "Results are returned in a data frame that contains the pickle file the result is from. The three columns being:\n",
    "- ID\n",
    "- Value\n",
    "- full_filepath = this is the relative path"
   ]
  },
  {
   "cell_type": "code",
   "execution_count": 7,
   "metadata": {},
   "outputs": [
    {
     "data": {
      "text/html": [
       "<div>\n",
       "<style scoped>\n",
       "    .dataframe tbody tr th:only-of-type {\n",
       "        vertical-align: middle;\n",
       "    }\n",
       "\n",
       "    .dataframe tbody tr th {\n",
       "        vertical-align: top;\n",
       "    }\n",
       "\n",
       "    .dataframe thead th {\n",
       "        text-align: right;\n",
       "    }\n",
       "</style>\n",
       "<table border=\"1\" class=\"dataframe\">\n",
       "  <thead>\n",
       "    <tr style=\"text-align: right;\">\n",
       "      <th></th>\n",
       "      <th>ID</th>\n",
       "      <th>Value</th>\n",
       "      <th>full_filepath</th>\n",
       "    </tr>\n",
       "  </thead>\n",
       "  <tbody>\n",
       "    <tr>\n",
       "      <th>42721</th>\n",
       "      <td>bg_wb</td>\n",
       "      <td>This experience is gained through killing Worl...</td>\n",
       "      <td>exp_d.pkl</td>\n",
       "    </tr>\n",
       "    <tr>\n",
       "      <th>42808</th>\n",
       "      <td>bg_wb</td>\n",
       "      <td>World Boss</td>\n",
       "      <td>exp_n.pkl</td>\n",
       "    </tr>\n",
       "  </tbody>\n",
       "</table>\n",
       "</div>"
      ],
      "text/plain": [
       "          ID                                              Value full_filepath\n",
       "42721  bg_wb  This experience is gained through killing Worl...     exp_d.pkl\n",
       "42808  bg_wb                                         World Boss     exp_n.pkl"
      ]
     },
     "execution_count": 7,
     "metadata": {},
     "output_type": "execute_result"
    }
   ],
   "source": [
    "search_value = \"bg_wb\"\n",
    "results = search.find(search_value, 'ID', True)\n",
    "\n",
    "results.head(25)"
   ]
  },
  {
   "cell_type": "markdown",
   "metadata": {},
   "source": [
    "### Find and Replace\n",
    "You can run multiple find/replace by sending an array to the search.replace function. This accepts an array as the argument.\n",
    "\n",
    "The format of the array is:\n",
    "- [0] = field to search ID or Value (these are case sensitive)\n",
    "- [1] = the value to look for\n",
    "- [2] = the value used to replace\n",
    "- [3] = (optional) File to find/replace in. For example, you can pass mob\\creature_names and it will only replace in that file.\n",
    "\n",
    "The find is case sensitive. If you needed to replace the same word, one with upper case, then add a row to the array like this:\n",
    "```\n",
    "data = []\n",
    "data.append([\"Value\", \"recieve\", \"receive\"])\n",
    "data.append([\"Value\", \"Recieve\", \"Receive\"])\n",
    "```\n",
    "\n",
    "The replace function is then run as:\n",
    "```search.replace(data)```\n",
    "This will go through all string files and replace as needed and then publish the changes to your staging directory.\n",
    "\n",
    "It will not reload the pickle search index. You should do this manually. \n"
   ]
  },
  {
   "cell_type": "code",
   "execution_count": 3,
   "metadata": {},
   "outputs": [
    {
     "name": "stdout",
     "output_type": "stream",
     "text": [
      "c:\\Users\\micha\\Documents\\SIE_String_Ops\\string_excel\\en\\conversation\\first_sister_fight_controller.xlsx\n",
      "conversation\\first_sister_fight_controller\n",
      "c:\\Users\\micha\\Documents\\SIE_String_Ops\\string_excel\\en\\conversation\\rancor_boss_fight_controller.xlsx\n",
      "conversation\\rancor_boss_fight_controller\n",
      "c:\\Users\\micha\\Documents\\SIE_String_Ops\\string_excel\\en\\quest\\ground\\legacy_button_jawatracks_pt2.xlsx\n",
      "quest\\ground\\legacy_button_jawatracks_pt2\n",
      "c:\\Users\\micha\\Documents\\SIE_String_Ops\\string_excel\\en\\quest\\ground\\legacy_button_jawatracks_pt2.xlsx\n",
      "quest\\ground\\legacy_button_jawatracks_pt2\n",
      "c:\\Users\\micha\\Documents\\SIE_String_Ops\\string_excel\\en\\quest\\ground\\legacy_button_jawatracks_pt2.xlsx\n",
      "quest\\ground\\legacy_button_jawatracks_pt2\n",
      "c:\\Users\\micha\\Documents\\SIE_String_Ops\\string_excel\\en\\quest\\ground\\legacy_button_jawatracks_pt2a.xlsx\n",
      "quest\\ground\\legacy_button_jawatracks_pt2a\n",
      "c:\\Users\\micha\\Documents\\SIE_String_Ops\\string_excel\\en\\quest\\ground\\legacy_button_jawatracks_pt2a.xlsx\n",
      "quest\\ground\\legacy_button_jawatracks_pt2a\n",
      "c:\\Users\\micha\\Documents\\SIE_String_Ops\\string_excel\\en\\quest\\ground\\legacy_button_jawatracks_pt2b.xlsx\n",
      "quest\\ground\\legacy_button_jawatracks_pt2b\n",
      "c:\\Users\\micha\\Documents\\SIE_String_Ops\\string_excel\\en\\quest\\ground\\legacy_button_jawatracks_pt2b.xlsx\n",
      "quest\\ground\\legacy_button_jawatracks_pt2b\n",
      "c:\\Users\\micha\\Documents\\SIE_String_Ops\\string_excel\\en\\quest\\ground\\legacy_button_jawatracks_pt2b.xlsx\n",
      "quest\\ground\\legacy_button_jawatracks_pt2b\n",
      "c:\\Users\\micha\\Documents\\SIE_String_Ops\\string_excel\\en\\quest\\ground\\legacy_button_jawatracks_reb_pt2.xlsx\n",
      "quest\\ground\\legacy_button_jawatracks_reb_pt2\n",
      "c:\\Users\\micha\\Documents\\SIE_String_Ops\\string_excel\\en\\quest\\ground\\legacy_button_jawatracks_reb_pt2.xlsx\n",
      "quest\\ground\\legacy_button_jawatracks_reb_pt2\n",
      "c:\\Users\\micha\\Documents\\SIE_String_Ops\\string_excel\\en\\quest\\ground\\legacy_button_jawatracks_reb_pt2.xlsx\n",
      "quest\\ground\\legacy_button_jawatracks_reb_pt2\n",
      "c:\\Users\\micha\\Documents\\SIE_String_Ops\\string_excel\\en\\quest\\ground\\legacy_button_jawatracks_reb_pt2a.xlsx\n",
      "quest\\ground\\legacy_button_jawatracks_reb_pt2a\n",
      "c:\\Users\\micha\\Documents\\SIE_String_Ops\\string_excel\\en\\quest\\ground\\legacy_button_jawatracks_reb_pt2a.xlsx\n",
      "quest\\ground\\legacy_button_jawatracks_reb_pt2a\n",
      "c:\\Users\\micha\\Documents\\SIE_String_Ops\\string_excel\\en\\quest\\ground\\legacy_button_jawatracks_reb_pt2b.xlsx\n",
      "quest\\ground\\legacy_button_jawatracks_reb_pt2b\n",
      "c:\\Users\\micha\\Documents\\SIE_String_Ops\\string_excel\\en\\quest\\ground\\legacy_button_jawatracks_reb_pt2b.xlsx\n",
      "quest\\ground\\legacy_button_jawatracks_reb_pt2b\n",
      "c:\\Users\\micha\\Documents\\SIE_String_Ops\\string_excel\\en\\quest\\ground\\legacy_button_jawatracks_reb_pt2b.xlsx\n",
      "quest\\ground\\legacy_button_jawatracks_reb_pt2b\n"
     ]
    }
   ],
   "source": [
    "data = []\n",
    "data.append([\"Value\", \"Recieve\", \"Receive\"])\n",
    "search.replace(data)"
   ]
  },
  {
   "cell_type": "code",
   "execution_count": null,
   "metadata": {},
   "outputs": [],
   "source": []
  }
 ],
 "metadata": {
  "kernelspec": {
   "display_name": "Python 3",
   "language": "python",
   "name": "python3"
  },
  "language_info": {
   "codemirror_mode": {
    "name": "ipython",
    "version": 3
   },
   "file_extension": ".py",
   "mimetype": "text/x-python",
   "name": "python",
   "nbconvert_exporter": "python",
   "pygments_lexer": "ipython3",
   "version": "3.10.11"
  }
 },
 "nbformat": 4,
 "nbformat_minor": 2
}
