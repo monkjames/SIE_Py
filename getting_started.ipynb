{
 "cells": [
  {
   "cell_type": "markdown",
   "metadata": {},
   "source": [
    "# Getting Started\n",
    "- create a folder for storing all the string (.stf) files from SIE\n",
    "- create a folder for storing all the excel files\n",
    "- use SIE to export all STF files\n",
    "- edit config.py, follow instructions in that file\n",
    "\n",
    "### Export Strings\n",
    "If you want to keep it simple, just create a /string/ directory in the folder with all these notebooks. Then create another directory"
   ]
  },
  {
   "cell_type": "code",
   "execution_count": null,
   "metadata": {},
   "outputs": [],
   "source": []
  }
 ],
 "metadata": {
  "language_info": {
   "name": "python"
  }
 },
 "nbformat": 4,
 "nbformat_minor": 2
}
