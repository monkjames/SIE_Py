{
 "cells": [
  {
   "cell_type": "markdown",
   "metadata": {},
   "source": [
    "# Getting Started\n",
    "It is assumed that all steps in README.txt have been completed"
   ]
  },
  {
   "cell_type": "code",
   "execution_count": 1,
   "metadata": {},
   "outputs": [],
   "source": [
    "import stf"
   ]
  },
  {
   "cell_type": "code",
   "execution_count": null,
   "metadata": {},
   "outputs": [],
   "source": [
    "# This will create excel files for all the exported STF files\n",
    "# if you configured for pickles, it will make them as well\n",
    "# takes about 3 minutes\n",
    "\n",
    "# stf.update_excel_pickle()"
   ]
  },
  {
   "cell_type": "code",
   "execution_count": 2,
   "metadata": {},
   "outputs": [
    {
     "name": "stdout",
     "output_type": "stream",
     "text": [
      "File is empty, ignoring it. c:\\Users\\micha\\Documents\\SIE_String_Ops\\string\\en\\ui_split.stf\n",
      "File is empty, ignoring it. c:\\Users\\micha\\Documents\\SIE_String_Ops\\string\\en\\conversation\\ship_parking_attendant.stf\n",
      "File is empty, ignoring it. c:\\Users\\micha\\Documents\\SIE_String_Ops\\string\\en\\conversation\\station_test.stf\n",
      "File is empty, ignoring it. c:\\Users\\micha\\Documents\\SIE_String_Ops\\string\\en\\conversation\\tier1_trainer_outline.stf\n",
      "File is empty, ignoring it. c:\\Users\\micha\\Documents\\SIE_String_Ops\\string\\en\\mission\\mission_npc_escort2me_imperial_easy.stf\n",
      "File is empty, ignoring it. c:\\Users\\micha\\Documents\\SIE_String_Ops\\string\\en\\mission\\mission_npc_escort2me_rebel_easy.stf\n",
      "File is empty, ignoring it. c:\\Users\\micha\\Documents\\SIE_String_Ops\\string\\en\\spacequest\\delivery_no_pickup\\corellia_privateer_tier3_2_b.stf\n",
      "File is empty, ignoring it. c:\\Users\\micha\\Documents\\SIE_String_Ops\\string\\en\\spacequest\\destroy\\corellia_privateer_4.stf\n",
      "File is empty, ignoring it. c:\\Users\\micha\\Documents\\SIE_String_Ops\\string\\en\\spacequest\\destroy\\corellia_privateer_tier4_1b.stf\n",
      "File is empty, ignoring it. c:\\Users\\micha\\Documents\\SIE_String_Ops\\string\\en\\spacequest\\destroy\\corellia_privateer_tier4_2a.stf\n",
      "File is empty, ignoring it. c:\\Users\\micha\\Documents\\SIE_String_Ops\\string\\en\\spacequest\\destroy\\corellia_privateer_tier4_2c.stf\n",
      "File is empty, ignoring it. c:\\Users\\micha\\Documents\\SIE_String_Ops\\string\\en\\spacequest\\destroy\\dathomir_station_imp_storyquest_01_b.stf\n",
      "File is empty, ignoring it. c:\\Users\\micha\\Documents\\SIE_String_Ops\\string\\en\\spacequest\\destroy\\dathomir_station_imp_storyquest_01_c.stf\n",
      "File is empty, ignoring it. c:\\Users\\micha\\Documents\\SIE_String_Ops\\string\\en\\spacequest\\destroy\\naboo_privateer_12.stf\n",
      "File is empty, ignoring it. c:\\Users\\micha\\Documents\\SIE_String_Ops\\string\\en\\spacequest\\destroy\\naboo_privateer_4.stf\n",
      "File is empty, ignoring it. c:\\Users\\micha\\Documents\\SIE_String_Ops\\string\\en\\spacequest\\destroy\\naboo_privateer_tier3_2b.stf\n",
      "File is empty, ignoring it. c:\\Users\\micha\\Documents\\SIE_String_Ops\\string\\en\\spacequest\\destroy\\naboo_privateer_tier3_3d.stf\n",
      "File is empty, ignoring it. c:\\Users\\micha\\Documents\\SIE_String_Ops\\string\\en\\spacequest\\destroy\\naboo_privateer_tier3_3e.stf\n",
      "File is empty, ignoring it. c:\\Users\\micha\\Documents\\SIE_String_Ops\\string\\en\\spacequest\\destroy\\naboo_privateer_tier4_2b.stf\n",
      "File is empty, ignoring it. c:\\Users\\micha\\Documents\\SIE_String_Ops\\string\\en\\spacequest\\destroy\\rori_station_reb_storyquest_01_c.stf\n",
      "File is empty, ignoring it. c:\\Users\\micha\\Documents\\SIE_String_Ops\\string\\en\\spacequest\\destroy\\rori_station_reb_storyquest_01_d.stf\n",
      "File is empty, ignoring it. c:\\Users\\micha\\Documents\\SIE_String_Ops\\string\\en\\spacequest\\destroy\\rori_station_reb_storyquest_01_e.stf\n",
      "File is empty, ignoring it. c:\\Users\\micha\\Documents\\SIE_String_Ops\\string\\en\\spacequest\\destroy\\tatooine_privateer_4.stf\n",
      "File is empty, ignoring it. c:\\Users\\micha\\Documents\\SIE_String_Ops\\string\\en\\spacequest\\destroy\\tatooine_privateer_tier3_1c.stf\n",
      "File is empty, ignoring it. c:\\Users\\micha\\Documents\\SIE_String_Ops\\string\\en\\spacequest\\destroy\\tatooine_privateer_tier4_1c.stf\n",
      "File is empty, ignoring it. c:\\Users\\micha\\Documents\\SIE_String_Ops\\string\\en\\spacequest\\destroy\\tatooine_privateer_tier4_3b.stf\n",
      "File is empty, ignoring it. c:\\Users\\micha\\Documents\\SIE_String_Ops\\string\\en\\spacequest\\destroy\\tatooine_privateer_tier4_3c.stf\n",
      "File is empty, ignoring it. c:\\Users\\micha\\Documents\\SIE_String_Ops\\string\\en\\spacequest\\destroy\\tat_priv_quest_trans.stf\n",
      "File is empty, ignoring it. c:\\Users\\micha\\Documents\\SIE_String_Ops\\string\\en\\spacequest\\destroy_surpriseattack\\corellia_privateer_13.stf\n",
      "File is empty, ignoring it. c:\\Users\\micha\\Documents\\SIE_String_Ops\\string\\en\\spacequest\\destroy_surpriseattack\\naboo_imperial_tier3_2_a.stf\n",
      "File is empty, ignoring it. c:\\Users\\micha\\Documents\\SIE_String_Ops\\string\\en\\spacequest\\escort\\tatooine_privateer_tier3_3_d.stf\n",
      "File is empty, ignoring it. c:\\Users\\micha\\Documents\\SIE_String_Ops\\string\\en\\spacequest\\escort\\tatooine_privateer_tier3_3_e.stf\n",
      "File is empty, ignoring it. c:\\Users\\micha\\Documents\\SIE_String_Ops\\string\\en\\spacequest\\inspect\\naboo_wookiee_inspect.stf\n",
      "File is empty, ignoring it. c:\\Users\\micha\\Documents\\SIE_String_Ops\\string\\en\\spacequest\\patrol\\naboo_privateer_8.stf\n",
      "File is empty, ignoring it. c:\\Users\\micha\\Documents\\SIE_String_Ops\\string\\en\\spacequest\\patrol\\naboo_wookiee_1.stf\n",
      "File is empty, ignoring it. c:\\Users\\micha\\Documents\\SIE_String_Ops\\string\\en\\spacequest\\patrol\\naboo_wookiee_2.stf\n",
      "File is empty, ignoring it. c:\\Users\\micha\\Documents\\SIE_String_Ops\\string\\en\\spacequest\\rescue\\corellia_privateer_tier3_3_c.stf\n",
      "File is empty, ignoring it. c:\\Users\\micha\\Documents\\SIE_String_Ops\\string\\en\\spacequest\\rescue\\tatooine_privateer_tier4_2c.stf\n",
      "File is empty, ignoring it. c:\\Users\\micha\\Documents\\SIE_String_Ops\\string\\en\\spacequest\\space_battle\\corellia_privateer_tier3_3_b.stf\n",
      "File is empty, ignoring it. c:\\Users\\micha\\Documents\\SIE_String_Ops\\string\\en\\spacequest\\survival\\tatooine_privateer_2_b.stf\n",
      "File is empty, ignoring it. c:\\Users\\micha\\Documents\\SIE_String_Ops\\string\\en\\spawning\\static_npc\\test.stf\n",
      "File is empty, ignoring it. c:\\Users\\micha\\Documents\\SIE_String_Ops\\string\\en\\static_npc\\corellia\\carena_keer.stf\n"
     ]
    }
   ],
   "source": [
    "# Rebuild Pickles\n",
    "# This helps if you just want to make those and not the excel files\n",
    "# takes about 30 seconds\n",
    "\n",
    "# stf.update_excel_pickle(False, True)"
   ]
  },
  {
   "cell_type": "code",
   "execution_count": null,
   "metadata": {},
   "outputs": [],
   "source": [
    "# this builds a master table if you prefer to use this instead of the search notebook\n",
    "#df = stf.build_master()\n",
    "#df.to_excel(\"master.xlsx\")"
   ]
  },
  {
   "cell_type": "markdown",
   "metadata": {},
   "source": [
    "# What Now?\n",
    "simple, go and edit the excel files and then run the following to stage them for your TRE file.\n",
    "\n",
    "For the file name you do not need the .xlsx extension. So if you edited craft_item_ingredients_n then it would look like this:\n",
    "```stf.excel_publish('craft_item_ingredients_n')```\n",
    "If the excel file is not at the root then you just put the relative path like this:\n",
    "```stf.excel_publish('faction/faction_names')```\n",
    "\n",
    "This method then takes the contents of the excel file and updates the local string file and pushes the new STF to your TRE staging directory."
   ]
  },
  {
   "cell_type": "code",
   "execution_count": null,
   "metadata": {},
   "outputs": [],
   "source": [
    "stf.excel_publish('art_d')"
   ]
  },
  {
   "cell_type": "markdown",
   "metadata": {},
   "source": [
    "# Add from code\n",
    "In this case you will use code to populate a dataframe and then send that dataframe to append to the existing string file:\n",
    "```\n",
    "df = pd.DataFrame(columns=['ID', 'Value'])\n",
    "new_id = 'star'\n",
    "new_value = 'wars'\n",
    "df.loc[len(df)] = {'ID': new_id, 'Value': new_value}\n",
    "\n",
    "stf.add_to_stf(df,'auction')\n",
    "```\n",
    "After this runs the existing auction.stf string file will have the id/value star/wars appended. It will also update the excel file and publish to your TRE staging folder.\n",
    "\n"
   ]
  },
  {
   "cell_type": "markdown",
   "metadata": {},
   "source": [
    "# New String File\n",
    "There are two ways to do this, really depends on your preference.\n",
    "\n",
    "The first way is to create a dataframe that has the values you want to merge into an existing string file. \n",
    "\n",
    "The second is kind of the same but you use code to write your excel file.\n",
    "\n",
    "\n",
    "### Method 1\n",
    "In this case you will use code to populate a dataframe and then send that dataframe to append to the existing string file:\n",
    "```\n",
    "df = pd.DataFrame(columns=['ID', 'Value'])\n",
    "new_id = 'star'\n",
    "new_value = 'wars'\n",
    "df.loc[len(df)] = {'ID': new_id, 'Value': new_value}\n",
    "\n",
    "stf.new_stf_from_df(df,'star_wars')\n",
    "```\n",
    "after this runs you will have a new star_wars.stf file in your folder as well as the associated star_wars.xlsx in the excel folder and lastly, you will have star_wars.stf in your TRE staging directory.\n",
    "\n",
    "### Method 2\n",
    "In this case, you will be adding a new excel file to the path in the config.EXCEL. You could write code to create the new Excel file or whatever.\n",
    "\n",
    "Then create the new string file like this:\n",
    "```\n",
    "new_stf_from_excel('star_wars'):\n",
    "```\n",
    "In this example, the file star_wars.xlsx was placed in the Excel staging area but there is no associated stf file in the string folder. When it runs it will create the STF file in the staging area and also the STF in the TRE staging area."
   ]
  },
  {
   "cell_type": "markdown",
   "metadata": {},
   "source": []
  }
 ],
 "metadata": {
  "kernelspec": {
   "display_name": "Python 3",
   "language": "python",
   "name": "python3"
  },
  "language_info": {
   "codemirror_mode": {
    "name": "ipython",
    "version": 3
   },
   "file_extension": ".py",
   "mimetype": "text/x-python",
   "name": "python",
   "nbconvert_exporter": "python",
   "pygments_lexer": "ipython3",
   "version": "3.10.11"
  }
 },
 "nbformat": 4,
 "nbformat_minor": 2
}
