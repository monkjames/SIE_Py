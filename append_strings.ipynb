{
 "cells": [
  {
   "cell_type": "code",
   "execution_count": 1,
   "metadata": {},
   "outputs": [],
   "source": [
    "import stf\n",
    "import utils as ut"
   ]
  },
  {
   "cell_type": "markdown",
   "metadata": {},
   "source": [
    "# Add Strings\n",
    "the goal here is to create a list that takes 3 args:\n",
    "- ID\n",
    "- Value\n",
    "- string file as relative path\n",
    "- (optional) - bool for replace, default is False which means your value will NOT get appended if the ID is in use\n",
    "\n",
    "example:\n",
    "['test','test value','art_n', False]\n",
    "\n",
    "If the file does not exist, a new one is created by first creating the excel file and then using the new_from_excel"
   ]
  },
  {
   "cell_type": "code",
   "execution_count": 2,
   "metadata": {},
   "outputs": [
    {
     "name": "stdout",
     "output_type": "stream",
     "text": [
      "c:\\Users\\micha\\Documents\\SIE_String_Ops\\string_excel\\en\\Receive.xlsx\n"
     ]
    }
   ],
   "source": [
    "data = []\n",
    "# [id, value, file]\n",
    "data.append([\"test\", \"test\", \"art_n\"])\n",
    "\n",
    "\n",
    "for d in data:\n",
    "    exc = ut.get_excel(d[2])\n",
    "    print(exc)"
   ]
  },
  {
   "cell_type": "code",
   "execution_count": null,
   "metadata": {},
   "outputs": [],
   "source": []
  }
 ],
 "metadata": {
  "kernelspec": {
   "display_name": "Python 3",
   "language": "python",
   "name": "python3"
  },
  "language_info": {
   "codemirror_mode": {
    "name": "ipython",
    "version": 3
   },
   "file_extension": ".py",
   "mimetype": "text/x-python",
   "name": "python",
   "nbconvert_exporter": "python",
   "pygments_lexer": "ipython3",
   "version": "3.10.11"
  }
 },
 "nbformat": 4,
 "nbformat_minor": 2
}
